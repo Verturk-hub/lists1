{
 "cells": [
  {
   "cell_type": "code",
   "execution_count": 1,
   "source": [
    "\r\n",
    "def countRange(lst,min_val,max_val):\r\n",
    "    count=0\r\n",
    "    for i in lst:\r\n",
    "        if i >= min_val and i< max_val:\r\n",
    "            count += 1\r\n",
    "    return count\r\n",
    "\r\n",
    "abc=[2,4,6,8,10,12,14]\r\n",
    "countRange(abc,6,10)"
   ],
   "outputs": [
    {
     "output_type": "execute_result",
     "data": {
      "text/plain": [
       "2"
      ]
     },
     "metadata": {},
     "execution_count": 1
    }
   ],
   "metadata": {}
  },
  {
   "cell_type": "code",
   "execution_count": 2,
   "source": [
    "def sublist(lst):\r\n",
    "    sublist=[[]]\r\n",
    "    for length in range(1,len(lst)+1):\r\n",
    "        for i in range(0,len(lst) - length + 1):\r\n",
    "            sublist.append(lst[i:i + length])\r\n",
    "    return sublist    \r\n",
    "\r\n",
    "lst=[1,2,3]\r\n",
    "print(sublist(lst))"
   ],
   "outputs": [
    {
     "output_type": "stream",
     "name": "stdout",
     "text": [
      "[[], [1], [2], [3], [1, 2], [2, 3], [1, 2, 3]]\n"
     ]
    }
   ],
   "metadata": {}
  },
  {
   "cell_type": "code",
   "execution_count": 3,
   "source": [
    "def sub_list(l):\r\n",
    "    lists=[[]]\r\n",
    "    for i in range(len(l)+1):\r\n",
    "        for j in range(i):\r\n",
    "            lists.append(l[j:i])\r\n",
    "    return lists\r\n",
    "\r\n",
    "l=[1,2,3]\r\n",
    "print(sub_list(l))"
   ],
   "outputs": [
    {
     "output_type": "stream",
     "name": "stdout",
     "text": [
      "[[], [1], [1, 2], [2], [1, 2, 3], [2, 3], [3]]\n"
     ]
    }
   ],
   "metadata": {}
  },
  {
   "cell_type": "code",
   "execution_count": 4,
   "source": [
    "hzl=[1,2,3,4]\r\n",
    "\r\n",
    "for i in hzl:\r\n",
    "    if (i== 5):\r\n",
    "        print('here it is')\r\n",
    "print('nope')"
   ],
   "outputs": [
    {
     "output_type": "stream",
     "name": "stdout",
     "text": [
      "nope\n"
     ]
    }
   ],
   "metadata": {}
  },
  {
   "cell_type": "code",
   "execution_count": 5,
   "source": [
    "if (4 in hzl):\r\n",
    "    print('here it is')"
   ],
   "outputs": [
    {
     "output_type": "stream",
     "name": "stdout",
     "text": [
      "here it is\n"
     ]
    }
   ],
   "metadata": {}
  },
  {
   "cell_type": "code",
   "execution_count": 6,
   "source": [
    "for i in range(len(hzl)):\r\n",
    "    if (hzl[i]==2):\r\n",
    "        print(i)\r\n",
    "        print('it is on index', str(i))"
   ],
   "outputs": [
    {
     "output_type": "stream",
     "name": "stdout",
     "text": [
      "1\n",
      "it is on index 1\n"
     ]
    }
   ],
   "metadata": {}
  },
  {
   "cell_type": "code",
   "execution_count": 8,
   "source": [
    "\r\n",
    "def search (hzl,n):\r\n",
    "    for i in range(len(hzl)):\r\n",
    "        if hzl[i] == n:\r\n",
    "            return True\r\n",
    "    return False            \r\n",
    "\r\n",
    "n=3\r\n",
    "print(search(hzl,3))"
   ],
   "outputs": [
    {
     "output_type": "stream",
     "name": "stdout",
     "text": [
      "True\n"
     ]
    }
   ],
   "metadata": {}
  },
  {
   "cell_type": "code",
   "execution_count": null,
   "source": [],
   "outputs": [],
   "metadata": {}
  }
 ],
 "metadata": {
  "orig_nbformat": 4,
  "language_info": {
   "name": "python",
   "version": "3.8.12",
   "mimetype": "text/x-python",
   "codemirror_mode": {
    "name": "ipython",
    "version": 3
   },
   "pygments_lexer": "ipython3",
   "nbconvert_exporter": "python",
   "file_extension": ".py"
  },
  "kernelspec": {
   "name": "python3",
   "display_name": "Python 3.8.12 64-bit ('ml': conda)"
  },
  "interpreter": {
   "hash": "ff1e2c4a7e03eeb4e26e4d26d514da215ebf38dfce64ba6fdcc533779cdbe8b5"
  }
 },
 "nbformat": 4,
 "nbformat_minor": 2
}